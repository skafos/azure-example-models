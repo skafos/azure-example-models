{
  "metadata": {
    "accelerator": "GPU",
    "colab": {
      "collapsed_sections": [],
      "name": "dogs_and_cats.ipynb",
      "provenance": [],
      "version": "0.3.2"
    },
    "kernelspec": {
      "display_name": "Python 3",
      "language": "python",
      "name": "python3"
    },
    "language_info": {
      "mimetype": "text/x-python",
      "nbconvert_exporter": "python",
      "name": "python",
      "file_extension": ".py",
      "version": "3.5.4",
      "pygments_lexer": "ipython3",
      "codemirror_mode": {
        "version": 3,
        "name": "ipython"
      }
    }
  },
  "nbformat_minor": 2,
  "nbformat": 4,
  "cells": [
    {
      "cell_type": "markdown",
      "source": "# Image Classification: Dogs and Cats\nTrains a model to classify an image as a cat or a dog using 25,000 images.\n\n\nBelow we will do the following:\n\n1. Load 25,000 cat and dog images.\n2. Build a classification model to predict whether an image is a cat or a dog.\n3. Convert the model to CoreML and upload it to Skafos.\n\nThe example is based on [Turi Create's Image Classifier](https://apple.github.io/turicreate/docs/userguide/image_classifier/).",
      "metadata": {
        "colab_type": "text",
        "id": "2M9a3nqGOovL"
      }
    },
    {
      "cell_type": "markdown",
      "source": "## Data Preparation and Model Training\nThe training data for this example are 25,000 images, 12,500 cats and 12,500 dogs. The original data set is [here](https://www.microsoft.com/en-us/download/details.aspx?id=54765) and we have also included it in the public bucket listed below.\n\nAfter unzipping and extracting the images, they are loaded into a Turi Create SFrame and labels are created for each image based on the path. The data is randomly split into train and test sets, where 80% of the data is used for training and 20% is used for model evaluation (if you desire). Training this model with a GPU is much faster than CPU time. At the moment, this training environment only supports CPU training.",
      "metadata": {
        "colab_type": "text",
        "id": "9kTLK7vWPvX9"
      }
    },
    {
      "cell_type": "code",
      "source": "# Import libraries\nimport urllib\nimport tarfile\n\nimport coremltools\nimport turicreate as tc",
      "metadata": {
        "colab": {},
        "colab_type": "code",
        "id": "Ui2thoXv5Qkq"
      },
      "execution_count": null,
      "outputs": []
    },
    {
      "cell_type": "code",
      "source": "# Specify the data set download url\ndata_url = \"https://s3.amazonaws.com/skafos.example.data/ImageClassifier/PetImages.tar.gz\"\ndata_path = \"PetImages.tar.gz\"\n\n# Pull the compressed data and extract it\nretrieve = urllib.request.urlretrieve(data_url, data_path)\ntar = tarfile.open(data_path)\ntar.extractall()\ntar.close()",
      "metadata": {
        "colab": {},
        "colab_type": "code",
        "id": "WqdLBjEu5pz0"
      },
      "execution_count": null,
      "outputs": []
    },
    {
      "cell_type": "code",
      "source": "# Load images (Note: you can ignore 'Unexpected JPEG decode failure' errors)\ndata = tc.image_analysis.load_images('PetImages', with_path=True, ignore_failure=True)\n\n# From the path-name, create a label column. This labels each image as either a dog or a cat \ndata['label'] = data['path'].apply(lambda path: 'dog' if '/Dog' in path else 'cat')\n\n# Make a train-set split\ntrain_data, test_data = data.random_split(0.8)",
      "metadata": {
        "colab": {},
        "colab_type": "code",
        "id": "lNCHTdcY6Go2"
      },
      "execution_count": null,
      "outputs": []
    },
    {
      "cell_type": "code",
      "source": "train_data.head()",
      "metadata": {
        "colab": {},
        "colab_type": "code",
        "id": "CYtxEwnLx61v"
      },
      "execution_count": null,
      "outputs": []
    },
    {
      "cell_type": "code",
      "source": "# Train an image classification model - consider increasing max_iterations\nmodel = tc.image_classifier.create(\n    dataset=train_data,\n    target='label',\n    model='resnet-50',\n    batch_size=32,\n    max_iterations=30\n)\n\n# Image Classification Training Docs:\n# https://apple.github.io/turicreate/docs/api/generated/turicreate.image_classifier.create.html#turicreate.image_classifier.create",
      "metadata": {
        "colab": {},
        "colab_type": "code",
        "id": "ZBKgB64p6s7K"
      },
      "execution_count": null,
      "outputs": []
    },
    {
      "cell_type": "markdown",
      "source": "## Model Evaluation",
      "metadata": {
        "colab_type": "text",
        "id": "WZ8GkhwCzHgx"
      }
    },
    {
      "cell_type": "code",
      "source": "# Let's see how the model performs on the hold out test data\npredictions = model.predict(test_data)\naccuracy = tc.evaluation.accuracy(test_data['label'], predictions)\nprint(f\"Image classifer is {accuracy*100} % accuracte on the testing dataset\", flush=True)",
      "metadata": {
        "colab": {},
        "colab_type": "code",
        "id": "O-BAfoPNytYA"
      },
      "execution_count": null,
      "outputs": []
    },
    {
      "cell_type": "markdown",
      "source": "## Model Export and Skafos Upload\n- Convert the model to CoreML format so that it can run on an iOS device. Then deliver the model to your apps with **[Skafos](https://skafos.ai)**.\n\n- If you don't already have an account, Sign Up for one **[here](https://dashboard.skafos.ai)**. \n- Once you've signed up for an account, grab an API token from your account settings.",
      "metadata": {
        "colab_type": "text",
        "id": "eXl00OXoQISI"
      }
    },
    {
      "cell_type": "code",
      "source": "# Specify the CoreML model name\nmodel_name = 'ImageClassifier'\ncoreml_model_name = model_name + '.mlmodel'\n\n# Export the trained model to CoreML format\nres = model.export_coreml(coreml_model_name) \n",
      "metadata": {
        "colab": {},
        "colab_type": "code",
        "id": "tUqqRq8V6vkN"
      },
      "execution_count": null,
      "outputs": []
    },
    {
      "cell_type": "code",
      "source": "import skafos\nfrom skafos import models\nimport os\n\n# Set your API Token first for repeated use\nos.environ[\"SKAFOS_API_TOKEN\"] = \"<YOUR-SKAFOS-API-TOKEN>\"\nskafos.summary()",
      "metadata": {
        "colab": {},
        "colab_type": "code",
        "id": "H5cVPNi5t0Yi"
      },
      "execution_count": null,
      "outputs": []
    },
    {
      "cell_type": "code",
      "source": "# You can retrieve this info with skafos.summary()\norg_name = \"<YOUR-SKAFOS-ORG-NAME>\"    # Example: \"mike-gmail-com-467h2\"\napp_name = \"<YOUR-SKAFOS-APP-NAME>\"    # Example: \"ImageClassification-App\"\nmodel_name = \"<YOUR-MODEL-NAME>\"       # Example: \"ImageClassificationModel\"\n\n# Upload model version to Skafos\nmodel_upload_result = models.upload_version(\n    files=\"ImageClassifier.mlmodel\",\n    org_name=org_name,\n    app_name=app_name,\n    model_name=model_name\n)",
      "metadata": {
        "colab": {},
        "colab_type": "code",
        "id": "H5cVPNi5t0Yi"
      },
      "execution_count": null,
      "outputs": []
    }
  ]
}