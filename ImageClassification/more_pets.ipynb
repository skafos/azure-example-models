{
  "metadata": {
    "accelerator": "GPU",
    "colab": {
      "collapsed_sections": [],
      "name": "more_pets.ipynb",
      "provenance": [],
      "version": "0.3.2"
    },
    "kernelspec": {
      "display_name": "Python 3",
      "language": "python",
      "name": "python3"
    },
    "language_info": {
      "mimetype": "text/x-python",
      "nbconvert_exporter": "python",
      "name": "python",
      "pygments_lexer": "ipython3",
      "version": "3.5.4",
      "file_extension": ".py",
      "codemirror_mode": {
        "version": 3,
        "name": "ipython"
      }
    }
  },
  "nbformat_minor": 2,
  "nbformat": 4,
  "cells": [
    {
      "cell_type": "markdown",
      "source": "# Image Classification: More Pets\n Trains a model to classify an image as a rabbit, mouse, hamster, fish, lizard, or snake.\n\nBelow we do the following:\n\n1. Load images of rabbits, mic, hamsters, fish, lizards, and snakes.\n2. Train an image classifier model.\n3. Convert the model to CoreML and upload it to Skafos.",
      "metadata": {
        "colab_type": "text",
        "id": "CkdOtrEU9LTz"
      }
    },
    {
      "cell_type": "markdown",
      "source": "## Data Preparation and Model Training\nThe training data for this example are hundreds of images of various animals, pulled from the [Open Images Dataset v4](https://storage.googleapis.com/openimages/web/index.html). \n\nAfter unzipping and extracting the images, they are loaded into a Turi Create SFrame and labels are created for each image based on the path. The data is randomly split into train and test sets, where 80% of the data is used for training and 20% is used for model evaluation (if you desire). Training this model with a GPU is much faster than CPU time. At the moment, this training environment only supports CPU training.",
      "metadata": {
        "colab_type": "text",
        "id": "O5g3lx1Z9Du_"
      }
    },
    {
      "cell_type": "code",
      "source": "# Import libraries\nimport os\nimport urllib\nimport tarfile\n\nimport coremltools\nimport turicreate as tc",
      "metadata": {
        "colab": {},
        "colab_type": "code",
        "id": "CNciX52pytXt"
      },
      "execution_count": null,
      "outputs": []
    },
    {
      "cell_type": "code",
      "source": "# Specify the data set download url\ndata_url = \"https://s3.amazonaws.com/skafos.example.data/ImageClassifier/MorePets.tar.gz\"\ndata_path = \"MorePets.tar.gz\"\n\n# Pull the compressed data and extract it\nretrieve = urllib.request.urlretrieve(data_url, data_path)\ntar = tarfile.open(data_path)\ntar.extractall()\ntar.close()",
      "metadata": {
        "colab": {},
        "colab_type": "code",
        "id": "ATJcUm6xytX0"
      },
      "execution_count": null,
      "outputs": []
    },
    {
      "cell_type": "code",
      "source": "# Load images - you can ignore various jpeg decode errors\ndata = tc.image_analysis.load_images('MorePets', with_path=True, ignore_failure=True)\n\n# From the path-name, create a label column. This labels each image as the appropriate plant\ndata['label'] = data['path'].apply(lambda path: os.path.basename(os.path.dirname(path)))",
      "metadata": {
        "colab": {},
        "colab_type": "code",
        "id": "uYzDkovkytX4"
      },
      "execution_count": null,
      "outputs": []
    },
    {
      "cell_type": "code",
      "source": "# Make a train-set split\ntrain_data, test_data = data.random_split(0.8)",
      "metadata": {
        "colab": {},
        "colab_type": "code",
        "id": "NUiHS1D57eSW"
      },
      "execution_count": null,
      "outputs": []
    },
    {
      "cell_type": "code",
      "source": "# Let's take a look at some training data\ntrain_data.head()",
      "metadata": {
        "colab": {},
        "colab_type": "code",
        "id": "TtQ74i9jytX6"
      },
      "execution_count": null,
      "outputs": []
    },
    {
      "cell_type": "code",
      "source": "# Train an image classification model - consider increasing max_iterations\nmodel = tc.image_classifier.create(\n    dataset=train_data,\n    target='label',\n    model='resnet-50',\n    batch_size=32,\n    max_iterations=20\n)\n\n# Image Classification Training Docs:\n# https://apple.github.io/turicreate/docs/api/generated/turicreate.image_classifier.create.html#turicreate.image_classifier.create",
      "metadata": {
        "colab": {},
        "colab_type": "code",
        "id": "wT7Occ1tytX9"
      },
      "execution_count": null,
      "outputs": []
    },
    {
      "cell_type": "markdown",
      "source": "## Model Evaluation",
      "metadata": {
        "colab_type": "text",
        "id": "WZ8GkhwCzHgx"
      }
    },
    {
      "cell_type": "code",
      "source": "# Let's see how the model performs on the hold out test data\npredictions = model.predict(test_data)\naccuracy = tc.evaluation.accuracy(test_data['label'], predictions)\nprint(f\"Image classifer is {accuracy*100} % accuracte on the testing dataset\", flush=True)",
      "metadata": {
        "colab": {},
        "colab_type": "code",
        "id": "O-BAfoPNytYA"
      },
      "execution_count": null,
      "outputs": []
    },
    {
      "cell_type": "markdown",
      "source": "## Model Export and Skafos Upload\n- Convert the model to CoreML format so that it can run on an iOS device. Then deliver the model to your apps with **[Skafos](https://skafos.ai)**.\n\n- If you don't already have an account, Sign Up for one **[here](https://dashboard.skafos.ai)**. \n- Once you've signed up for an account, grab an API token from your account settings.",
      "metadata": {
        "colab_type": "text",
        "id": "36W7tqNl85wd"
      }
    },
    {
      "cell_type": "code",
      "source": "# Specify the CoreML model name\nmodel_name = 'ImageClassifier'\ncoreml_model_name = model_name + '.mlmodel'\n\n# Export the trained model to CoreML format\nres = model.export_coreml(coreml_model_name)",
      "metadata": {
        "colab": {},
        "colab_type": "code",
        "id": "c1G27rFvytYE"
      },
      "execution_count": null,
      "outputs": []
    },
    {
      "cell_type": "code",
      "source": "import skafos\nfrom skafos import models\nimport os\n\n# Set your API Token first for repeated use\nos.environ[\"SKAFOS_API_TOKEN\"] = \"<YOUR-SKAFOS-API-TOKEN>\"\nskafos.summary()",
      "metadata": {
        "colab": {},
        "colab_type": "code",
        "id": "f6z9Yfor-sV3"
      },
      "execution_count": null,
      "outputs": []
    },
    {
      "cell_type": "code",
      "source": "# You can retrieve this info with skafos.summary()\norg_name = \"<YOUR-SKAFOS-ORG-NAME>\"    # Example: \"mike-gmail-com-467h2\"\napp_name = \"<YOUR-SKAFOS-APP-NAME>\"    # Example: \"ImageClassification-App\"\nmodel_name = \"<YOUR-MODEL-NAME>\"       # Example: \"ImageClassificationModel\"\n\n# Upload model version to Skafos\nmodel_upload_result = models.upload_version(\n    files=\"ImageClassifier.mlmodel\",\n    org_name=org_name,\n    app_name=app_name,\n    model_name=model_name\n)",
      "metadata": {
        "colab": {},
        "colab_type": "code",
        "id": "f6z9Yfor-sV3"
      },
      "execution_count": null,
      "outputs": []
    }
  ]
}