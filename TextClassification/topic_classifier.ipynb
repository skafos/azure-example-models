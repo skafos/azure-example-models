{
  "metadata": {
    "colab": {
      "collapsed_sections": [],
      "name": "topic_classifier.ipynb",
      "provenance": [],
      "version": "0.3.2"
    },
    "kernelspec": {
      "display_name": "Python 3",
      "language": "python",
      "name": "python3"
    },
    "language_info": {
      "mimetype": "text/x-python",
      "nbconvert_exporter": "python",
      "name": "python",
      "file_extension": ".py",
      "version": "3.5.4",
      "pygments_lexer": "ipython3",
      "codemirror_mode": {
        "version": 3,
        "name": "ipython"
      }
    }
  },
  "nbformat_minor": 2,
  "nbformat": 4,
  "cells": [
    {
      "cell_type": "markdown",
      "source": "# Text Classification: Topics\nTrains a model to classify user text into one of 20 different topics.\n\n\nBelow we do the following:\n\n1. Load labeled text training data.\n2. Build a topic classification model.\n3. Convert the model to CoreML and upload to Skafos.\n\nThe example is based on [Turi Create's Text Classifier](https://github.com/apple/turicreate/tree/master/userguide/text_classifier).",
      "metadata": {
        "colab_type": "text",
        "id": "OwP_hLw_nWNQ"
      }
    },
    {
      "cell_type": "markdown",
      "source": "## Data Preparation and Model Training\nThe training & testing data for this example is pulled directly from the sklearn package (a popular machine learning library in the Python world), comprised of approximately 20,000 newsgroup documents and partitioned (nearly) evenly across 20 different newsgroups. We use this data to train a topic classifier: *given a sample of text, assign a category that best summarizes the content*. The original dataset can be found [here](http://qwone.com/~jason/20Newsgroups/).\n\n",
      "metadata": {
        "colab_type": "text",
        "id": "gyQndlOqnjno"
      }
    },
    {
      "cell_type": "code",
      "source": "# Import libraries\nimport pandas as pd\nimport turicreate as tc\nfrom sklearn.datasets import fetch_20newsgroups",
      "metadata": {
        "colab": {},
        "colab_type": "code",
        "id": "Ui2thoXv5Qkq"
      },
      "execution_count": null,
      "outputs": []
    },
    {
      "cell_type": "code",
      "source": "# Select training and testing data. This creates newsgroups_train and newsgroups_test as sklearn.utils.Bunch objects\nnewsgroup_train = fetch_20newsgroups(subset='train', remove=('headers', 'footers', 'quotes'), shuffle='True')\nnewsgroup_test = fetch_20newsgroups(subset='test', remove=('headers', 'footers', 'quotes'), shuffle='True')",
      "metadata": {
        "colab": {},
        "colab_type": "code",
        "id": "WqdLBjEu5pz0"
      },
      "execution_count": null,
      "outputs": []
    },
    {
      "cell_type": "code",
      "source": "# Convert integer labels to text label names for both training and testing data\ntrain_label_names = dict(enumerate(newsgroup_train['target_names']))\ntrain_labels = [train_label_names.get(x) for x in newsgroup_train['target']]\n\ntest_label_names = dict(enumerate(newsgroup_test['target_names']))\ntest_labels = [test_label_names.get(x) for x in newsgroup_test['target']]",
      "metadata": {
        "colab": {},
        "colab_type": "code",
        "id": "-gXBddNU0Sj4"
      },
      "execution_count": null,
      "outputs": []
    },
    {
      "cell_type": "code",
      "source": "# Construct training and testing dataframes\ntrain_data = tc.SFrame({'text': newsgroup_train['data'], 'label': train_labels})\ntest_data = tc.SFrame({'text': newsgroup_test['data'], 'label': test_labels})\n\n# Strip out new lines and other characters here\n# In the future, you can include more text cleaning logic here\n# This is useful for normalizing/standardizing your text input in order to build a more accurate classifier\ntrain_data['text'] = train_data['text'].apply(lambda x: x.replace('\\n', ' ').replace('/', '').replace('\\\\', ''))\ntest_data['text'] = test_data['text'].apply(lambda x: x.replace('\\n', ' ').replace('/', '').replace('\\\\', ''))",
      "metadata": {
        "colab": {},
        "colab_type": "code",
        "id": "CgYjjaQj0h8u"
      },
      "execution_count": null,
      "outputs": []
    },
    {
      "cell_type": "code",
      "source": "# Take a look at our training SFrame\ntrain_data.head()",
      "metadata": {
        "colab": {},
        "colab_type": "code",
        "id": "G_UtPgqV0h-1"
      },
      "execution_count": null,
      "outputs": []
    },
    {
      "cell_type": "code",
      "source": "# Train a topic classification model - this may take a few minutes to train\nmodel = tc.text_classifier.create(\n    dataset=train_data,\n    target='label',\n    features=['text'],\n    drop_stop_words=True,\n    word_count_threshold=2\n)\n\n# Text Classifier Training Docs:\n# https://apple.github.io/turicreate/docs/api/generated/turicreate.text_classifier.create.html#turicreate.text_classifier.create",
      "metadata": {
        "colab": {},
        "colab_type": "code",
        "id": "U6gRPU9W7jex"
      },
      "execution_count": null,
      "outputs": []
    },
    {
      "cell_type": "markdown",
      "source": "## Model Evaluation\n",
      "metadata": {
        "colab_type": "text",
        "id": "-cn7NADOnnpY"
      }
    },
    {
      "cell_type": "code",
      "source": "# Now that the model is trained, we can evaluate against a test set\ntest_predictions = model.predict(test_data)\naccuracy = tc.evaluation.accuracy(test_data['label'], test_predictions)\nprint(f'Topic classifier model has a testing accuracy of {accuracy*100} % !', flush=True)",
      "metadata": {
        "colab": {},
        "colab_type": "code",
        "id": "ZBKgB64p6s7K"
      },
      "execution_count": null,
      "outputs": []
    },
    {
      "cell_type": "code",
      "source": "# Classify a new example of text - try different text values here\nexample_text = {\"text\": [\"My computer is broken and I need to take it to the repair shop to have electrical components fixed.\"]}\nexample_prediction = model.classify(tc.SFrame(example_text))\nprint(example_prediction, flush=True)",
      "metadata": {
        "colab": {},
        "colab_type": "code",
        "id": "8sYeL9PyyVh5"
      },
      "execution_count": null,
      "outputs": []
    },
    {
      "cell_type": "markdown",
      "source": "## Model Export and Skafos Upload\n- Convert the model to CoreML format so that it can run on an iOS device. Then deliver the model to your apps with **[Skafos](https://skafos.ai)**.\n\n- If you don't already have an account, Sign Up for one **[here](https://dashboard.skafos.ai)**. \n- Once you've signed up for an account, grab an API token from your account settings.",
      "metadata": {
        "colab_type": "text",
        "id": "60uOXeIsnqCQ"
      }
    },
    {
      "cell_type": "code",
      "source": "# Specify the CoreML model name\nmodel_name = 'TextClassifier'\ncoreml_model_name = model_name + '.mlmodel'\n\n# Export the trained model to CoreML format\nres = model.export_coreml(coreml_model_name) \n",
      "metadata": {
        "colab": {},
        "colab_type": "code",
        "id": "tUqqRq8V6vkN"
      },
      "execution_count": null,
      "outputs": []
    },
    {
      "cell_type": "code",
      "source": "import skafos\nfrom skafos import models\nimport os\n\n# Set your API Token first for repeated use\nos.environ[\"SKAFOS_API_TOKEN\"] = \"<YOUR-SKAFOS-API-TOKEN>\"\nskafos.summary()",
      "metadata": {
        "colab": {},
        "colab_type": "code",
        "id": "H5cVPNi5t0Yi"
      },
      "execution_count": null,
      "outputs": []
    },
    {
      "cell_type": "code",
      "source": "# You can retrieve this info with skafos.summary()\norg_name = \"<YOUR-SKAFOS-ORG-NAME>\"    # Example: \"mike-gmail-com-467h2\"\napp_name = \"<YOUR-SKAFOS-APP-NAME>\"    # Example: \"Text-App\"\nmodel_name = \"<YOUR-MODEL-NAME>\"       # Example: \"TextClassifierModel\"\n\n# Upload model version to Skafos\nmodel_upload_result = models.upload_version(\n    files=\"TextClassifier.mlmodel\",\n    org_name=org_name,\n    app_name=app_name,\n    model_name=model_name\n)",
      "metadata": {
        "colab": {},
        "colab_type": "code",
        "id": "H5cVPNi5t0Yi"
      },
      "execution_count": null,
      "outputs": []
    }
  ]
}