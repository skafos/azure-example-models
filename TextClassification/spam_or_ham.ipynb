{
  "metadata": {
    "colab": {
      "collapsed_sections": [],
      "name": "spam_or_ham.ipynb",
      "provenance": [],
      "version": "0.3.2"
    },
    "kernelspec": {
      "display_name": "Python 3",
      "language": "python",
      "name": "python3"
    },
    "language_info": {
      "mimetype": "text/x-python",
      "nbconvert_exporter": "python",
      "name": "python",
      "pygments_lexer": "ipython3",
      "version": "3.5.4",
      "file_extension": ".py",
      "codemirror_mode": {
        "version": 3,
        "name": "ipython"
      }
    }
  },
  "nbformat_minor": 2,
  "nbformat": 4,
  "cells": [
    {
      "cell_type": "markdown",
      "source": "# Text Classification: Spam or Ham\n Trains a model to classify user text as \"spam\" (bad) or \"ham\" (good).\n\nBelow we do the following:\n1. Load and clean the SMS text data (from [UCI ML Repository](https://archive.ics.uci.edu/ml/datasets/SMS+Spam+Collection)).\n2. Build and evaluate the spam classifier model.\n3. Convert the model to CoreML and upload to Skafos.",
      "metadata": {
        "colab_type": "text",
        "id": "wAJumBbf5nJj"
      }
    },
    {
      "cell_type": "code",
      "source": "!pip install -r requirements.txt",
      "metadata": {},
      "execution_count": null,
      "outputs": []
    },
    {
      "cell_type": "markdown",
      "source": "## Data Preparation and Model Training\nThe data loaded below is SMS text message data labeled with \"spam\" or \"ham\". First, the data is processed and then it's split into training and testing datasets.",
      "metadata": {
        "colab_type": "text",
        "id": "DvvjPxCQ6itJ"
      }
    },
    {
      "cell_type": "code",
      "source": "# Import libraries\nimport requests, zipfile, io\n\nimport turicreate as tc",
      "metadata": {
        "colab": {},
        "colab_type": "code",
        "id": "znI8oCSc5nJl"
      },
      "execution_count": null,
      "outputs": []
    },
    {
      "cell_type": "code",
      "source": "# Functions to load spam dataset\ndef load_spam_dataset():\n    spam_url = 'https://archive.ics.uci.edu/ml/machine-learning-databases/00228/smsspamcollection.zip'\n    _request_and_unzip(spam_url, 'spam/')\n    with open(\"datasets/spam/SMSSpamCollection\", \"r\", encoding=\"utf-8\") as infile:\n        d = infile.readlines()\n    return d\n\ndef _request_and_unzip(url, folder):\n    r = requests.get(url)\n    if r.ok:\n        z = zipfile.ZipFile(io.BytesIO(r.content))\n        z.extractall(f'datasets/{folder}')\n",
      "metadata": {
        "colab": {},
        "colab_type": "code",
        "id": "6gLDdRfk5nJt"
      },
      "execution_count": null,
      "outputs": []
    },
    {
      "cell_type": "code",
      "source": "# Fetch data and take a look\nspam_data = load_spam_dataset()\nprint(spam_data[:4], flush=True)",
      "metadata": {
        "colab": {},
        "colab_type": "code",
        "id": "nQmBq_GW5nJv"
      },
      "execution_count": null,
      "outputs": []
    },
    {
      "cell_type": "code",
      "source": "# Split text data from its target variable (\"ham\", \"spam\")\nspam_labels = [line.split('\\t')[0] for line in spam_data]\nspam_text = [line.split('\\t')[1].replace('\\n', '') for line in spam_data]\nspam_df = tc.SFrame({'label': spam_labels, 'text': spam_text})",
      "metadata": {
        "colab": {},
        "colab_type": "code",
        "id": "k-8EPHOI5nJy"
      },
      "execution_count": null,
      "outputs": []
    },
    {
      "cell_type": "code",
      "source": "# What does our resulting dataframe look like?\nspam_df.head(5)",
      "metadata": {
        "colab": {},
        "colab_type": "code",
        "id": "QUA5N5Yf5nJ0"
      },
      "execution_count": null,
      "outputs": []
    },
    {
      "cell_type": "code",
      "source": "# Make a train-test split\ntrain_data, test_data = spam_df.random_split(0.8)",
      "metadata": {
        "colab": {},
        "colab_type": "code",
        "id": "JnPs2ekJ5nJ3"
      },
      "execution_count": null,
      "outputs": []
    },
    {
      "cell_type": "code",
      "source": "# Train the spam filter classification model, this takes approximately 5-10 seconds using CPU.\nspam_model = tc.text_classifier.create(\n    train_data,\n    target='label',\n    features=['text'],\n    drop_stop_words=True,\n    word_count_threshold=2\n)",
      "metadata": {
        "colab": {},
        "colab_type": "code",
        "id": "pGNEwx4m5nJ6"
      },
      "execution_count": null,
      "outputs": []
    },
    {
      "cell_type": "markdown",
      "source": "## Model Evaluation",
      "metadata": {
        "colab_type": "text",
        "id": "rnq9SWzQXcQN"
      }
    },
    {
      "cell_type": "code",
      "source": "# The counts where target and predicted label are the same (meaning the model got it right) should be higher\npredictions = spam_model.predict(test_data)\ntc.evaluation.confusion_matrix(test_data['label'], predictions)",
      "metadata": {
        "colab": {},
        "colab_type": "code",
        "id": "wISEZMyT5nJ_"
      },
      "execution_count": null,
      "outputs": []
    },
    {
      "cell_type": "code",
      "source": "# Model testing accuracy\naccuracy = tc.evaluation.accuracy(test_data['label'], predictions)\nprint(f'Spam filter model has a testing accuracy of {accuracy*100} % !', flush=True)",
      "metadata": {
        "colab": {},
        "colab_type": "code",
        "id": "JF-4KeAI5nKB"
      },
      "execution_count": null,
      "outputs": []
    },
    {
      "cell_type": "code",
      "source": "# generate some sample text data\nsample_text = ['WINNER! You have been selected for a CASH prize!', 'hey how are you?',\n               'Do you want to be a millionaire? You can for free.0020', 'What is the weather like today?']\n\nsample_predictions = spam_model.predict(tc.SFrame({'text': sample_text}))\n\n# investiage the results\nfor t, p in zip(sample_text, sample_predictions):\n    print(t, '----', p)",
      "metadata": {
        "colab": {},
        "colab_type": "code",
        "id": "eoB8pgzt5nKF"
      },
      "execution_count": null,
      "outputs": []
    },
    {
      "cell_type": "markdown",
      "source": "## Model Export and Skafos Upload\n- Convert the model to CoreML format so that it can run on an iOS device. Then deliver the model to your apps with **[Skafos](https://skafos.ai)**.\n\n- If you don't already have an account, Sign Up for one **[here](https://dashboard.skafos.ai)**. \n- Once you've signed up for an account, grab an API token from your account settings.",
      "metadata": {
        "colab_type": "text",
        "id": "vXf1EXVnH8m5"
      }
    },
    {
      "cell_type": "code",
      "source": "# Specify the CoreML model name\nmodel_name = 'TextClassifier'\ncoreml_model_name = model_name + '.mlmodel'\n\n# Export the trained model to CoreML format\nres = spam_model.export_coreml(coreml_model_name)",
      "metadata": {
        "colab": {},
        "colab_type": "code",
        "id": "4q7OOW43IFYU"
      },
      "execution_count": null,
      "outputs": []
    },
    {
      "cell_type": "code",
      "source": "import skafos\nfrom skafos import models\nimport os\n\n# Set your API Token first for repeated use\nos.environ[\"SKAFOS_API_TOKEN\"] = \"<YOUR-SKAFOS-API-TOKEN>\"\nskafos.summary()",
      "metadata": {
        "colab": {},
        "colab_type": "code",
        "id": "PKXjWGfqIP7B"
      },
      "execution_count": null,
      "outputs": []
    },
    {
      "cell_type": "code",
      "source": "# You can retrieve this info with skafos.summary()\norg_name = \"<YOUR-SKAFOS-ORG-NAME>\"    # Example: \"mike-gmail-com-467h2\"\napp_name = \"<YOUR-SKAFOS-APP-NAME>\"    # Example: \"Text-App\"\nmodel_name = \"<YOUR-MODEL-NAME>\"       # Example: \"TextClassifierModel\"\n\n# Upload model version to Skafos\nmodel_upload_result = models.upload_version(\n    files=\"TextClassifier.mlmodel\",\n    org_name=org_name,\n    app_name=app_name,\n    model_name=model_name\n)",
      "metadata": {
        "colab": {},
        "colab_type": "code",
        "id": "PKXjWGfqIP7B"
      },
      "execution_count": null,
      "outputs": []
    }
  ]
}