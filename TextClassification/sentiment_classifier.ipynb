{
  "metadata": {
    "colab": {
      "collapsed_sections": [],
      "name": "sentiment_classifier.ipynb",
      "provenance": [],
      "version": "0.3.2"
    },
    "kernelspec": {
      "name": "python36",
      "display_name": "Python 3.6",
      "language": "python"
    },
    "language_info": {
      "mimetype": "text/x-python",
      "nbconvert_exporter": "python",
      "name": "python",
      "pygments_lexer": "ipython3",
      "version": "3.6.6",
      "file_extension": ".py",
      "codemirror_mode": {
        "version": 3,
        "name": "ipython"
      }
    }
  },
  "nbformat_minor": 2,
  "nbformat": 4,
  "cells": [
    {
      "cell_type": "markdown",
      "source": "# Text Classification: Sentiment\nTrains a model to classify user text as positive (5), negative (1), or in between.\n\nBelow we do the following:\n\n1. Load labeled text training data.\n2. Build a sentiment classification model.\n3. Convert the model to CoreML and upload to Skafos.\n\nThe example is based on [Turi Create's Text Classifier](https://github.com/apple/turicreate/tree/master/userguide/text_classifier).",
      "metadata": {
        "colab_type": "text",
        "id": "OwP_hLw_nWNQ"
      }
    },
    {
      "cell_type": "code",
      "source": "!pip install -r requirements.txt",
      "metadata": {},
      "execution_count": null,
      "outputs": []
    },
    {
      "cell_type": "markdown",
      "source": "## Data Preparation and Model Training\nThe training data for this example is Yelp review data, paired with sentiment scores. The data is randomly split into train and test sets, where 80% of the data is used for training, and 20% is used for model evaluation.\n\nSentiment classification is the task of assigning a positivity/negativity rating on a scale from 1-5 over a piece of text. A 5 means the text is positive, and a 1 means the text is negative.",
      "metadata": {
        "colab_type": "text",
        "id": "gyQndlOqnjno"
      }
    },
    {
      "cell_type": "code",
      "source": "# Import turicreate \nimport turicreate as tc",
      "metadata": {
        "colab": {},
        "colab_type": "code",
        "id": "Ui2thoXv5Qkq",
        "trusted": true
      },
      "execution_count": null,
      "outputs": []
    },
    {
      "cell_type": "code",
      "source": "# Load data from Turi Create's website\ndata = tc.SFrame('https://static.turi.com/datasets/regression/yelp-data.csv')\n\n# Rename target column for standardization\ndata['label'] = data['stars'].astype(str)\n\n# Make a train-test split\ntrain_data, test_data = data.random_split(0.8)",
      "metadata": {
        "colab": {},
        "colab_type": "code",
        "id": "WqdLBjEu5pz0"
      },
      "execution_count": null,
      "outputs": []
    },
    {
      "cell_type": "code",
      "source": "# Train a sentiment classification model - this may take a few minutes to train\nmodel = tc.text_classifier.create(\n    dataset=train_data,\n    target='label',\n    features=['text'],\n    drop_stop_words=True,\n    validation_set=None\n)\n\n# Text Classifier Training Docs:\n# https://apple.github.io/turicreate/docs/api/generated/turicreate.text_classifier.create.html#turicreate.text_classifier.create",
      "metadata": {
        "colab": {},
        "colab_type": "code",
        "id": "lNCHTdcY6Go2"
      },
      "execution_count": null,
      "outputs": []
    },
    {
      "cell_type": "markdown",
      "source": "## Model Evaluation\n",
      "metadata": {
        "colab_type": "text",
        "id": "-cn7NADOnnpY"
      }
    },
    {
      "cell_type": "code",
      "source": "# Now that the model is trained, we can evaluate against a test set\ntest_predictions = model.predict(test_data)\naccuracy = tc.evaluation.accuracy(test_data['label'], test_predictions)\nprint(f'Sentiment model has a testing accuracy of {accuracy*100} % !', flush=True)",
      "metadata": {
        "colab": {},
        "colab_type": "code",
        "id": "ZBKgB64p6s7K"
      },
      "execution_count": null,
      "outputs": []
    },
    {
      "cell_type": "code",
      "source": "# Classify a new example of text - try different text values here\nexample_text = {\"text\": [\"I really love it. It filled me with joy and was super awesome.\"]}\nexample_prediction = model.classify(tc.SFrame(example_text))\nprint(example_prediction, flush=True)",
      "metadata": {
        "colab": {},
        "colab_type": "code",
        "id": "8sYeL9PyyVh5"
      },
      "execution_count": null,
      "outputs": []
    },
    {
      "cell_type": "markdown",
      "source": "## Model Export and Skafos Upload\n- Convert the model to CoreML format so that it can run on an iOS device. Then deliver the model to your apps with **[Skafos](https://skafos.ai)**.\n\n- If you don't already have an account, Sign Up for one **[here](https://dashboard.skafos.ai)**. \n- Once you've signed up for an account, grab an API token from your account settings.",
      "metadata": {
        "colab_type": "text",
        "id": "60uOXeIsnqCQ"
      }
    },
    {
      "cell_type": "code",
      "source": "# Specify the CoreML model name\nmodel_name = 'TextClassifier'\ncoreml_model_name = model_name + '.mlmodel'\n\n# Export the trained model to CoreML format\nres = model.export_coreml(coreml_model_name) \n",
      "metadata": {
        "colab": {},
        "colab_type": "code",
        "id": "tUqqRq8V6vkN"
      },
      "execution_count": null,
      "outputs": []
    },
    {
      "cell_type": "code",
      "source": "import skafos\nfrom skafos import models\nimport os\n\n# Set your API Token first for repeated use\nos.environ[\"SKAFOS_API_TOKEN\"] = \"<YOUR-SKAFOS-API-TOKEN>\"\nskafos.summary()",
      "metadata": {
        "colab": {},
        "colab_type": "code",
        "id": "H5cVPNi5t0Yi"
      },
      "execution_count": null,
      "outputs": []
    },
    {
      "cell_type": "code",
      "source": "# You can retrieve this info with skafos.summary()\norg_name = \"<YOUR-SKAFOS-ORG-NAME>\"    # Example: \"mike-gmail-com-467h2\"\napp_name = \"<YOUR-SKAFOS-APP-NAME>\"    # Example: \"Text-App\"\nmodel_name = \"<YOUR-MODEL-NAME>\"       # Example: \"TextClassifierModel\"\n\n# Upload model version to Skafos\nmodel_upload_result = models.upload_version(\n    files=\"TextClassifier.mlmodel\",\n    org_name=org_name,\n    app_name=app_name,\n    model_name=model_name\n)",
      "metadata": {
        "colab": {},
        "colab_type": "code",
        "id": "H5cVPNi5t0Yi"
      },
      "execution_count": null,
      "outputs": []
    }
  ]
}