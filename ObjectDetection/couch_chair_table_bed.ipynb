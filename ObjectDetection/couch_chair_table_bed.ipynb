{
  "metadata": {
    "colab": {
      "name": "couch_chair_table_bed.ipynb",
      "version": "0.3.2",
      "provenance": [],
      "collapsed_sections": [],
      "toc_visible": true
    },
    "kernelspec": {
      "name": "python3",
      "display_name": "Python 3",
      "language": "python"
    },
    "accelerator": "GPU",
    "language_info": {
      "mimetype": "text/x-python",
      "nbconvert_exporter": "python",
      "name": "python",
      "file_extension": ".py",
      "version": "3.5.4",
      "pygments_lexer": "ipython3",
      "codemirror_mode": {
        "version": 3,
        "name": "ipython"
      }
    }
  },
  "nbformat_minor": 2,
  "nbformat": 4,
  "cells": [
    {
      "cell_type": "markdown",
      "source": "# Object Detection: Furniture - Couches, Chairs, Tables and Beds\nBelow we will do the following:\n1. Load images of couches, chairs, tables and beds and their corresponding bounding boxes.\n2. Build an object detection model for identifying the location of couches, chairs, tables and beds in images.\n3. Convert the model to CoreML and upload it to Skafos.\n\nThe example is based on [Turi Create's Object Detection model](https://github.com/apple/turicreate/tree/master/userguide/object_detection).",
      "metadata": {
        "colab_type": "text",
        "id": "StKdqK2ODGge"
      }
    },
    {
      "cell_type": "markdown",
      "source": "## Data Preparation and Model Training\nThe data for this example are 324 images: 100 chairs, 99 tables, 91 beds and 34 couches. The original data was taken from Google's open source [Open Images Dataset](https://storage.googleapis.com/openimages/web/index.html).\n\nOnce loaded, the data is randomly split into train and test sets, where 80% of the data is used for training and 20% is used for model evaluation (if you desire). Training this model with a GPU is much faster than CPU time. At this moment, Azure doesn't support GPU training on notebook instances.",
      "metadata": {
        "colab_type": "text",
        "id": "pou3lQv6DV_T"
      }
    },
    {
      "cell_type": "code",
      "source": "# Import libraries\nimport tarfile\nimport urllib\nimport turicreate as tc\nimport os",
      "metadata": {
        "colab_type": "code",
        "id": "Ui2thoXv5Qkq",
        "colab": {}
      },
      "execution_count": null,
      "outputs": []
    },
    {
      "cell_type": "code",
      "source": "# Specify the data set download url\ndata_url = \"https://s3.amazonaws.com/skafos.example.data/ObjectDetection/couch_chair_table_bed.sframe.tar.gz\"\ndata_path = \"couch_chair_table_bed.sframe.tar.gz\"\n\n# Pull the compressed data and extract it\nretrieve = urllib.request.urlretrieve(data_url, data_path)\ntar = tarfile.open(data_path)\ntar.extractall()\ntar.close()",
      "metadata": {
        "colab_type": "code",
        "id": "WqdLBjEu5pz0",
        "colab": {}
      },
      "execution_count": null,
      "outputs": []
    },
    {
      "cell_type": "code",
      "source": "## Load the data\ndata =  tc.SFrame('couch_chair_table_bed.sframe')\n\n## Make a train-test split\ntrain_data, test_data = data.random_split(0.8)",
      "metadata": {
        "colab_type": "code",
        "id": "lNCHTdcY6Go2",
        "colab": {}
      },
      "execution_count": null,
      "outputs": []
    },
    {
      "cell_type": "code",
      "source": "train_data.head()",
      "metadata": {
        "id": "ZxCG_EFLKQYX",
        "colab_type": "code",
        "colab": {}
      },
      "execution_count": null,
      "outputs": []
    },
    {
      "cell_type": "code",
      "source": "# Create an object detection model\nmodel = tc.object_detector.create(\n    dataset=train_data,\n    max_iterations=10 # to improve model accuracy, remove the max_iterations argument and TuriCreate will tune to an appropriate number\n)\n\n# Object Detector Training Docs:\n# https://apple.github.io/turicreate/docs/api/generated/turicreate.object_detector.create.html#turicreate.object_detector.create",
      "metadata": {
        "colab_type": "code",
        "id": "ZBKgB64p6s7K",
        "colab": {}
      },
      "execution_count": null,
      "outputs": []
    },
    {
      "cell_type": "code",
      "source": "model.evaluate(test_data)",
      "metadata": {
        "id": "hza8N3Sjh1vI",
        "colab_type": "code",
        "colab": {}
      },
      "execution_count": null,
      "outputs": []
    },
    {
      "cell_type": "markdown",
      "source": "## Model Export and Skafos Upload\n- Convert the model to CoreML format so that it can run on an iOS device. Then deliver the model to your apps with **[Skafos](https://skafos.ai)**.\n\n- If you don't already have an account, Sign Up for one **[here](https://dashboard.skafos.ai)**. \n- Once you've signed up for an account, grab an API token from your account settings.",
      "metadata": {
        "colab_type": "text",
        "id": "8PC99TYMDYlk"
      }
    },
    {
      "cell_type": "code",
      "source": "# Specify the CoreML model name\nmodel_name = 'ObjectDetection'\ncoreml_model_name = model_name + '.mlmodel'\n\n# Export the trained model to CoreML format\nres = model.export_coreml(coreml_model_name)",
      "metadata": {
        "colab_type": "code",
        "id": "tUqqRq8V6vkN",
        "colab": {}
      },
      "execution_count": null,
      "outputs": []
    },
    {
      "cell_type": "code",
      "source": "import skafos\nfrom skafos import models\nimport os\n\n# Set your API Token first for repeated use\nos.environ[\"SKAFOS_API_TOKEN\"] = \"<YOUR-SKAFOS-API-TOKEN>\"\n\n# You can retrieve this info with skafos.summary()\norg_name = \"<YOUR-SKAFOS-ORG-NAME>\"    # Example: \"mike-gmail-com-467h2\"\napp_name = \"<YOUR-SKAFOS-APP-NAME>\"    # Example: \"ObjectDetection-App\"\nmodel_name = \"<YOUR-MODEL-NAME>\"       # Example: \"ObjectDetectionModel\"\n\n# Upload model version to Skafos\nmodel_upload_result = models.upload_version(\n    files=\"ObjectDetection.mlmodel\",\n    org_name=org_name,\n    app_name=app_name,\n    model_name=model_name\n)",
      "metadata": {
        "id": "taVZLyCWWtqm",
        "colab_type": "code",
        "colab": {}
      },
      "execution_count": null,
      "outputs": []
    }
  ]
}